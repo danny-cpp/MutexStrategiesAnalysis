{
 "cells": [
  {
   "cell_type": "markdown",
   "id": "respective-entrance",
   "metadata": {},
   "source": [
    "<h1 align=\"center\">Different strategies for Mutual Exclusion over Shared-Resource Analysis</h1>"
   ]
  },
  {
   "cell_type": "markdown",
   "id": "artificial-population",
   "metadata": {},
   "source": [
    "<h4 align=\"center\">Danh Nguyen</h4>"
   ]
  },
  {
   "cell_type": "markdown",
   "id": "preceding-kennedy",
   "metadata": {},
   "source": [
    "---"
   ]
  },
  {
   "cell_type": "code",
   "execution_count": 1,
   "id": "strange-tokyo",
   "metadata": {},
   "outputs": [],
   "source": [
    "import pandas as pd\n",
    "import matplotlib.pyplot as plt"
   ]
  },
  {
   "cell_type": "code",
   "execution_count": 220,
   "id": "heavy-monitor",
   "metadata": {},
   "outputs": [],
   "source": [
    "df_mutex = pd.read_csv(\"data/single_mutex_100_run_1_to_100.txt\", header=None)\n",
    "df_arr_mutex = pd.read_csv(\"data/array_mutex_100_run_1_to_100.txt\", header=None)\n",
    "df_RW = pd.read_csv(\"data/RW_lock_100_run_1_to_100.txt\", header=None)\n",
    "df_arr_RW = pd.read_csv(\"data/array_RW_lock_100_run_1_to_100.txt\", header=None)"
   ]
  },
  {
   "cell_type": "code",
   "execution_count": 221,
   "id": "interracial-congress",
   "metadata": {},
   "outputs": [],
   "source": [
    "df_mutex = df_mutex.groupby(df_mutex.index // 100). mean()\n",
    "df_arr_mutex = df_arr_mutex.groupby(df_arr_mutex.index // 100). mean()\n",
    "df_RW = df_RW.groupby(df_RW.index // 100). mean()\n",
    "df_arr_RW = df_arr_RW.groupby(df_arr_RW.index // 100). mean()"
   ]
  },
  {
   "cell_type": "code",
   "execution_count": 222,
   "id": "horizontal-waterproof",
   "metadata": {},
   "outputs": [],
   "source": [
    "mutex = pd.DataFrame({\"single mutex\": df_mutex[0].tolist()})\n",
    "arr_mutex = pd.DataFrame({\"array mutex\": df_arr_mutex[0].tolist()})\n",
    "RW = pd.DataFrame({\"single RW lock\": df_RW[0].tolist()})\n",
    "arr_RW = pd.DataFrame({\"array RW lock\": df_arr_RW[0].tolist()})"
   ]
  },
  {
   "cell_type": "code",
   "execution_count": 223,
   "id": "improving-racing",
   "metadata": {},
   "outputs": [],
   "source": [
    "df = pd.concat([mutex, arr_mutex, RW, arr_RW], axis=1)"
   ]
  },
  {
   "cell_type": "code",
   "execution_count": 224,
   "id": "loved-talent",
   "metadata": {},
   "outputs": [],
   "source": [
    "df = df.multiply(1000000)"
   ]
  },
  {
   "cell_type": "code",
   "execution_count": null,
   "id": "broad-active",
   "metadata": {},
   "outputs": [],
   "source": []
  },
  {
   "cell_type": "code",
   "execution_count": 161,
   "id": "organizational-hardware",
   "metadata": {},
   "outputs": [],
   "source": []
  },
  {
   "cell_type": "code",
   "execution_count": 226,
   "id": "informative-trailer",
   "metadata": {},
   "outputs": [],
   "source": [
    "plt.plot(df[\"single mutex\"], label=\"single mutex\", marker='s')\n",
    "plt.plot(df[\"array mutex\"], label=\"array mutex\", marker='^')\n",
    "plt.plot(df[\"single RW lock\"], label=\"single RW lock\", marker='o')\n",
    "plt.plot(df[\"array RW lock\"], label=\"array RW lock\", marker='D')\n",
    "\n",
    "\n",
    "plt.title(\"Average access time to various array size\\n\")\n",
    "plt.figtext(.5,.9,'(Lower is better)',fontsize=10,ha='center')\n",
    "plt.ylabel(\"microsecond\")\n",
    "plt.xlabel(\"Array size 10^N\")\n",
    "plt.yscale(\"log\")\n",
    "\n",
    "plt.legend()\n",
    "\n",
    "plt.savefig('data/avg_access_time.jpg', dpi=300)\n",
    "plt.close()"
   ]
  },
  {
   "cell_type": "markdown",
   "id": "quarterly-entrance",
   "metadata": {},
   "source": [
    "<center>\n",
    "    <img src=\"data/avg_access_time.jpg\" width=\"500\" align=\"center\">\n",
    "</center>"
   ]
  },
  {
   "cell_type": "code",
   "execution_count": 258,
   "id": "electoral-foundation",
   "metadata": {},
   "outputs": [],
   "source": [
    "labels = [\"Mutex\", \"RW lock\"]\n",
    "mutex_time = [6.272001e-03, 6.350866e-03, 6.191586e-03]\n",
    "RW_time = [8.130321e-03, 5.959428e-03, 3.797897e-03]\n",
    "\n",
    "zero_read = [6.272001e-03*1000000, 8.130321e-03*1000000]\n",
    "fifty_read = [6.350866e-03*1000000, 5.959428e-03*1000000]\n",
    "hundred_read = [6.191586e-03*1000000, 3.797897e-03*1000000]"
   ]
  },
  {
   "cell_type": "code",
   "execution_count": 231,
   "id": "immediate-drill",
   "metadata": {},
   "outputs": [],
   "source": [
    "import numpy as np"
   ]
  },
  {
   "cell_type": "code",
   "execution_count": 269,
   "id": "global-rogers",
   "metadata": {},
   "outputs": [],
   "source": [
    "x = np.arange(len(labels))\n",
    "width = 0.15  # the width of the bars\n",
    "\n",
    "fig, ax = plt.subplots()\n",
    "rects1 = ax.bar(x + width, zero_read, width, label='0-100')\n",
    "rects2 = ax.bar(x - width, hundred_read, width, label='100-0')\n",
    "rects3 = ax.bar(x , fifty_read, width, label='50-50')\n",
    "\n",
    "ax.set_ylabel('microsecond')\n",
    "ax.set_title('Access time with various read-write workload ratio\\n')\n",
    "plt.figtext(.5,.88,'(Lower is better)',fontsize=10,ha='center')\n",
    "ax.set_xticks(x, labels)\n",
    "ax.legend()\n",
    "\n",
    "fig.tight_layout()\n",
    "\n",
    "plt.savefig('data/diff_workload_ratio.jpg', dpi=300)\n",
    "plt.close()"
   ]
  },
  {
   "cell_type": "markdown",
   "id": "hybrid-abuse",
   "metadata": {},
   "source": [
    "<center>\n",
    "    <img src=\"data/diff_workload_ratio.jpg\"\" width=\"500\" align=\"center\">\n",
    "</center>"
   ]
  },
  {
   "cell_type": "code",
   "execution_count": null,
   "id": "distinguished-sigma",
   "metadata": {},
   "outputs": [],
   "source": []
  }
 ],
 "metadata": {
  "kernelspec": {
   "display_name": "Python 3",
   "language": "python",
   "name": "python3"
  },
  "language_info": {
   "codemirror_mode": {
    "name": "ipython",
    "version": 3
   },
   "file_extension": ".py",
   "mimetype": "text/x-python",
   "name": "python",
   "nbconvert_exporter": "python",
   "pygments_lexer": "ipython3",
   "version": "3.9.5"
  }
 },
 "nbformat": 4,
 "nbformat_minor": 5
}
