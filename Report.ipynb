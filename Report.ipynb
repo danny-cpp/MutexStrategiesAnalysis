{
 "cells": [
  {
   "cell_type": "markdown",
   "id": "exclusive-tragedy",
   "metadata": {},
   "source": [
    "<h1 align=\"center\">Different strategies for Mutual Exclusion over Shared-Resource Analysis</h1>"
   ]
  },
  {
   "cell_type": "markdown",
   "id": "compatible-nitrogen",
   "metadata": {},
   "source": [
    "<h4 align=\"center\">Danh Nguyen</h4>"
   ]
  },
  {
   "cell_type": "markdown",
   "id": "honey-choice",
   "metadata": {},
   "source": [
    "---"
   ]
  },
  {
   "cell_type": "code",
   "execution_count": 1,
   "id": "complete-merit",
   "metadata": {},
   "outputs": [],
   "source": [
    "import pandas as pd\n",
    "import matplotlib.pyplot as plt"
   ]
  },
  {
   "cell_type": "code",
   "execution_count": 159,
   "id": "controlling-falls",
   "metadata": {},
   "outputs": [],
   "source": [
    "df = pd.read_csv(\"data/100_each_size_100.txt\", header=None)"
   ]
  },
  {
   "cell_type": "code",
   "execution_count": 160,
   "id": "postal-whole",
   "metadata": {},
   "outputs": [
    {
     "data": {
      "text/html": [
       "<div>\n",
       "<style scoped>\n",
       "    .dataframe tbody tr th:only-of-type {\n",
       "        vertical-align: middle;\n",
       "    }\n",
       "\n",
       "    .dataframe tbody tr th {\n",
       "        vertical-align: top;\n",
       "    }\n",
       "\n",
       "    .dataframe thead th {\n",
       "        text-align: right;\n",
       "    }\n",
       "</style>\n",
       "<table border=\"1\" class=\"dataframe\">\n",
       "  <thead>\n",
       "    <tr style=\"text-align: right;\">\n",
       "      <th></th>\n",
       "      <th>0</th>\n",
       "    </tr>\n",
       "  </thead>\n",
       "  <tbody>\n",
       "    <tr>\n",
       "      <th>0</th>\n",
       "      <td>62.532015</td>\n",
       "    </tr>\n",
       "    <tr>\n",
       "      <th>1</th>\n",
       "      <td>1.101228</td>\n",
       "    </tr>\n",
       "    <tr>\n",
       "      <th>2</th>\n",
       "      <td>37.895232</td>\n",
       "    </tr>\n",
       "    <tr>\n",
       "      <th>3</th>\n",
       "      <td>1.112011</td>\n",
       "    </tr>\n",
       "  </tbody>\n",
       "</table>\n",
       "</div>"
      ],
      "text/plain": [
       "           0\n",
       "0  62.532015\n",
       "1   1.101228\n",
       "2  37.895232\n",
       "3   1.112011"
      ]
     },
     "execution_count": 160,
     "metadata": {},
     "output_type": "execute_result"
    }
   ],
   "source": [
    "df = df.groupby(df.index // 100). mean()\n",
    "df = df.mul(10000)\n",
    "df"
   ]
  },
  {
   "cell_type": "code",
   "execution_count": 161,
   "id": "cooperative-field",
   "metadata": {},
   "outputs": [],
   "source": [
    "y_val = df.iloc[: , 0].tolist()"
   ]
  },
  {
   "cell_type": "code",
   "execution_count": 163,
   "id": "spread-cancellation",
   "metadata": {},
   "outputs": [],
   "source": [
    "df.index = [\"single mutex\", \"array mutex\", \"single RW lock\", \"array RW lock\"]\n",
    "ax = df.plot.bar(rot=0)\n",
    "\n",
    "for index, value in enumerate(y_val):\n",
    "    plt.text(index - 0.17, value + 0.5, \"{:.2f}\".format(value))\n",
    "\n",
    "\n",
    "plt.title(\"Average access time to array size 100\\n\")\n",
    "plt.figtext(.5,.9,'(Lower is better)',fontsize=10,ha='center')\n",
    "plt.ylabel(\"E-4 second\")\n",
    "\n",
    "plt.savefig('data/avg_access_time.jpg', dpi=300)\n",
    "plt.close()"
   ]
  },
  {
   "cell_type": "markdown",
   "id": "strong-bones",
   "metadata": {},
   "source": [
    "<center>\n",
    "    <img src=\"data/avg_access_time.jpg\" width=\"500\" align=\"center\">\n",
    "</center>"
   ]
  },
  {
   "cell_type": "markdown",
   "id": "disabled-going",
   "metadata": {},
   "source": []
  }
 ],
 "metadata": {
  "kernelspec": {
   "display_name": "Python 3",
   "language": "python",
   "name": "python3"
  },
  "language_info": {
   "codemirror_mode": {
    "name": "ipython",
    "version": 3
   },
   "file_extension": ".py",
   "mimetype": "text/x-python",
   "name": "python",
   "nbconvert_exporter": "python",
   "pygments_lexer": "ipython3",
   "version": "3.9.5"
  }
 },
 "nbformat": 4,
 "nbformat_minor": 5
}
