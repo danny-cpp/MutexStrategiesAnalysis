{
 "cells": [
  {
   "cell_type": "markdown",
   "id": "athletic-representation",
   "metadata": {},
   "source": [
    "<h1 align=\"center\">Different strategies for Mutual Exclusion over Shared-Resource Analysis</h1>"
   ]
  },
  {
   "cell_type": "markdown",
   "id": "three-integration",
   "metadata": {},
   "source": [
    "<h4 align=\"center\">Danh Nguyen</h4>"
   ]
  },
  {
   "cell_type": "markdown",
   "id": "dressed-block",
   "metadata": {},
   "source": [
    "---"
   ]
  },
  {
   "cell_type": "code",
   "execution_count": 1,
   "id": "filled-diesel",
   "metadata": {},
   "outputs": [],
   "source": [
    "import pandas as pd\n",
    "import matplotlib.pyplot as plt"
   ]
  },
  {
   "cell_type": "code",
   "execution_count": 192,
   "id": "british-internet",
   "metadata": {},
   "outputs": [],
   "source": [
    "df_mutex = pd.read_csv(\"data/single_mutex_100_run_1_to_100.txt\", header=None)\n",
    "df_arr_mutex = pd.read_csv(\"data/array_mutex_100_run_1_to_100.txt\", header=None)\n",
    "df_RW = pd.read_csv(\"data/RW_lock_100_run_1_to_100.txt\", header=None)\n",
    "df_arr_RW = pd.read_csv(\"data/array_RW_lock_100_run_1_to_100.txt\", header=None)"
   ]
  },
  {
   "cell_type": "code",
   "execution_count": 193,
   "id": "other-winning",
   "metadata": {},
   "outputs": [],
   "source": [
    "df_mutex = df_mutex.groupby(df_mutex.index // 100). mean()\n",
    "df_arr_mutex = df_arr_mutex.groupby(df_arr_mutex.index // 100). mean()\n",
    "df_RW = df_RW.groupby(df_RW.index // 100). mean()\n",
    "df_arr_RW = df_arr_RW.groupby(df_arr_RW.index // 100). mean()"
   ]
  },
  {
   "cell_type": "code",
   "execution_count": 194,
   "id": "controlling-induction",
   "metadata": {},
   "outputs": [],
   "source": [
    "mutex = pd.DataFrame({\"single mutex\": df_mutex[0].tolist()})\n",
    "arr_mutex = pd.DataFrame({\"array mutex\": df_arr_mutex[0].tolist()})\n",
    "RW = pd.DataFrame({\"single RW lock\": df_RW[0].tolist()})\n",
    "arr_RW = pd.DataFrame({\"array RW lock\": df_arr_RW[0].tolist()})"
   ]
  },
  {
   "cell_type": "code",
   "execution_count": 195,
   "id": "according-history",
   "metadata": {},
   "outputs": [],
   "source": [
    "df = pd.concat([mutex, arr_mutex, RW, arr_RW], axis=1)"
   ]
  },
  {
   "cell_type": "code",
   "execution_count": 197,
   "id": "iraqi-scotland",
   "metadata": {},
   "outputs": [],
   "source": [
    "df = df.multiply(1000000)"
   ]
  },
  {
   "cell_type": "code",
   "execution_count": null,
   "id": "japanese-motor",
   "metadata": {},
   "outputs": [],
   "source": []
  },
  {
   "cell_type": "code",
   "execution_count": 161,
   "id": "willing-investor",
   "metadata": {},
   "outputs": [],
   "source": []
  },
  {
   "cell_type": "code",
   "execution_count": 219,
   "id": "impossible-aaron",
   "metadata": {},
   "outputs": [],
   "source": [
    "plt.plot(df[\"single mutex\"], label=\"single mutex\", marker='s')\n",
    "plt.plot(df[\"array mutex\"], label=\"array mutex\", marker='^')\n",
    "plt.plot(df[\"single RW lock\"], label=\"single RW lock\", marker='o')\n",
    "plt.plot(df[\"array RW lock\"], label=\"array RW lock\", marker='D')\n",
    "\n",
    "\n",
    "plt.title(\"Average access time to various array size\\n\")\n",
    "plt.figtext(.5,.9,'(Lower is better)',fontsize=10,ha='center')\n",
    "plt.ylabel(\"microsecond\")\n",
    "plt.xlabel(\"Array size 10^N\")\n",
    "plt.yscale(\"log\")\n",
    "\n",
    "plt.legend()\n",
    "\n",
    "plt.savefig('data/avg_access_time.jpg', dpi=300)\n",
    "plt.close()"
   ]
  },
  {
   "cell_type": "markdown",
   "id": "amended-leonard",
   "metadata": {},
   "source": [
    "<center>\n",
    "    <img src=\"data/avg_access_time.jpg\" width=\"500\" align=\"center\">\n",
    "</center>"
   ]
  },
  {
   "cell_type": "markdown",
   "id": "right-collection",
   "metadata": {},
   "source": []
  }
 ],
 "metadata": {
  "kernelspec": {
   "display_name": "Python 3",
   "language": "python",
   "name": "python3"
  },
  "language_info": {
   "codemirror_mode": {
    "name": "ipython",
    "version": 3
   },
   "file_extension": ".py",
   "mimetype": "text/x-python",
   "name": "python",
   "nbconvert_exporter": "python",
   "pygments_lexer": "ipython3",
   "version": "3.9.5"
  }
 },
 "nbformat": 4,
 "nbformat_minor": 5
}
