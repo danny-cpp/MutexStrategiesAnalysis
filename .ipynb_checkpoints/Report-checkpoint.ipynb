{
 "cells": [
  {
   "cell_type": "markdown",
   "id": "subsequent-little",
   "metadata": {},
   "source": [
    "<h1 align=\"center\">Different strategies for Mutual Exclusion over Shared-Resource</h1>"
   ]
  },
  {
   "cell_type": "markdown",
   "id": "fresh-nightlife",
   "metadata": {},
   "source": [
    "<h4 align=\"center\">Danh Nguyen</h4>"
   ]
  },
  {
   "cell_type": "markdown",
   "id": "thick-davis",
   "metadata": {},
   "source": [
    "---"
   ]
  },
  {
   "cell_type": "code",
   "execution_count": null,
   "id": "printable-macintosh",
   "metadata": {},
   "outputs": [],
   "source": []
  }
 ],
 "metadata": {
  "kernelspec": {
   "display_name": "Python 3",
   "language": "python",
   "name": "python3"
  },
  "language_info": {
   "codemirror_mode": {
    "name": "ipython",
    "version": 3
   },
   "file_extension": ".py",
   "mimetype": "text/x-python",
   "name": "python",
   "nbconvert_exporter": "python",
   "pygments_lexer": "ipython3",
   "version": "3.9.5"
  }
 },
 "nbformat": 4,
 "nbformat_minor": 5
}
